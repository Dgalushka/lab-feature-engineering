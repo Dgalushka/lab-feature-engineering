{
 "cells": [
  {
   "cell_type": "code",
   "execution_count": 109,
   "id": "c3719cb2",
   "metadata": {},
   "outputs": [],
   "source": [
    "import pandas as pd\n",
    "import numpy as np\n",
    "import datetime\n",
    "import warnings\n",
    "import matplotlib.pyplot as plt\n",
    "import seaborn as sns"
   ]
  },
  {
   "cell_type": "code",
   "execution_count": 110,
   "id": "75b95129",
   "metadata": {},
   "outputs": [
    {
     "name": "stderr",
     "output_type": "stream",
     "text": [
      "C:\\Users\\Dmitr\\AppData\\Local\\Temp\\ipykernel_18864\\219825831.py:1: DtypeWarning: Columns (8) have mixed types. Specify dtype option on import or set low_memory=False.\n",
      "  df = pd.read_csv('../class1/learningSet.csv')\n"
     ]
    }
   ],
   "source": [
    "df = pd.read_csv('../class1/learningSet.csv')"
   ]
  },
  {
   "cell_type": "code",
   "execution_count": 111,
   "id": "cbde0af6",
   "metadata": {},
   "outputs": [
    {
     "data": {
      "text/html": [
       "<div>\n",
       "<style scoped>\n",
       "    .dataframe tbody tr th:only-of-type {\n",
       "        vertical-align: middle;\n",
       "    }\n",
       "\n",
       "    .dataframe tbody tr th {\n",
       "        vertical-align: top;\n",
       "    }\n",
       "\n",
       "    .dataframe thead th {\n",
       "        text-align: right;\n",
       "    }\n",
       "</style>\n",
       "<table border=\"1\" class=\"dataframe\">\n",
       "  <thead>\n",
       "    <tr style=\"text-align: right;\">\n",
       "      <th></th>\n",
       "      <th>percentage</th>\n",
       "    </tr>\n",
       "  </thead>\n",
       "  <tbody>\n",
       "    <tr>\n",
       "      <th>RDATE_5</th>\n",
       "      <td>99.990567</td>\n",
       "    </tr>\n",
       "    <tr>\n",
       "      <th>RAMNT_5</th>\n",
       "      <td>99.990567</td>\n",
       "    </tr>\n",
       "    <tr>\n",
       "      <th>RDATE_3</th>\n",
       "      <td>99.746363</td>\n",
       "    </tr>\n",
       "    <tr>\n",
       "      <th>RAMNT_3</th>\n",
       "      <td>99.746363</td>\n",
       "    </tr>\n",
       "    <tr>\n",
       "      <th>RDATE_4</th>\n",
       "      <td>99.705488</td>\n",
       "    </tr>\n",
       "    <tr>\n",
       "      <th>RAMNT_4</th>\n",
       "      <td>99.705488</td>\n",
       "    </tr>\n",
       "    <tr>\n",
       "      <th>RAMNT_6</th>\n",
       "      <td>99.186685</td>\n",
       "    </tr>\n",
       "    <tr>\n",
       "      <th>RDATE_6</th>\n",
       "      <td>99.186685</td>\n",
       "    </tr>\n",
       "    <tr>\n",
       "      <th>RAMNT_15</th>\n",
       "      <td>92.388798</td>\n",
       "    </tr>\n",
       "    <tr>\n",
       "      <th>RDATE_15</th>\n",
       "      <td>92.388798</td>\n",
       "    </tr>\n",
       "    <tr>\n",
       "      <th>RDATE_23</th>\n",
       "      <td>91.763091</td>\n",
       "    </tr>\n",
       "    <tr>\n",
       "      <th>RAMNT_23</th>\n",
       "      <td>91.763091</td>\n",
       "    </tr>\n",
       "    <tr>\n",
       "      <th>RDATE_20</th>\n",
       "      <td>91.732696</td>\n",
       "    </tr>\n",
       "    <tr>\n",
       "      <th>RAMNT_20</th>\n",
       "      <td>91.732696</td>\n",
       "    </tr>\n",
       "    <tr>\n",
       "      <th>RAMNT_7</th>\n",
       "      <td>90.677273</td>\n",
       "    </tr>\n",
       "    <tr>\n",
       "      <th>RDATE_7</th>\n",
       "      <td>90.677273</td>\n",
       "    </tr>\n",
       "    <tr>\n",
       "      <th>RAMNT_17</th>\n",
       "      <td>90.146942</td>\n",
       "    </tr>\n",
       "    <tr>\n",
       "      <th>RDATE_17</th>\n",
       "      <td>90.146942</td>\n",
       "    </tr>\n",
       "    <tr>\n",
       "      <th>RDATE_21</th>\n",
       "      <td>90.029556</td>\n",
       "    </tr>\n",
       "    <tr>\n",
       "      <th>RAMNT_21</th>\n",
       "      <td>90.029556</td>\n",
       "    </tr>\n",
       "    <tr>\n",
       "      <th>RAMNT_10</th>\n",
       "      <td>89.035970</td>\n",
       "    </tr>\n",
       "    <tr>\n",
       "      <th>RDATE_10</th>\n",
       "      <td>89.035970</td>\n",
       "    </tr>\n",
       "    <tr>\n",
       "      <th>RDATE_13</th>\n",
       "      <td>87.160944</td>\n",
       "    </tr>\n",
       "    <tr>\n",
       "      <th>RAMNT_13</th>\n",
       "      <td>87.160944</td>\n",
       "    </tr>\n",
       "    <tr>\n",
       "      <th>NUMCHLD</th>\n",
       "      <td>87.018404</td>\n",
       "    </tr>\n",
       "    <tr>\n",
       "      <th>RDATE_11</th>\n",
       "      <td>84.551209</td>\n",
       "    </tr>\n",
       "    <tr>\n",
       "      <th>RAMNT_11</th>\n",
       "      <td>84.551209</td>\n",
       "    </tr>\n",
       "    <tr>\n",
       "      <th>RDATE_19</th>\n",
       "      <td>83.359535</td>\n",
       "    </tr>\n",
       "    <tr>\n",
       "      <th>RAMNT_19</th>\n",
       "      <td>83.359535</td>\n",
       "    </tr>\n",
       "    <tr>\n",
       "      <th>RAMNT_9</th>\n",
       "      <td>82.461326</td>\n",
       "    </tr>\n",
       "    <tr>\n",
       "      <th>RDATE_9</th>\n",
       "      <td>82.461326</td>\n",
       "    </tr>\n",
       "    <tr>\n",
       "      <th>RDATE_24</th>\n",
       "      <td>81.409047</td>\n",
       "    </tr>\n",
       "    <tr>\n",
       "      <th>RAMNT_24</th>\n",
       "      <td>81.409047</td>\n",
       "    </tr>\n",
       "    <tr>\n",
       "      <th>RAMNT_18</th>\n",
       "      <td>79.270951</td>\n",
       "    </tr>\n",
       "    <tr>\n",
       "      <th>RDATE_18</th>\n",
       "      <td>79.270951</td>\n",
       "    </tr>\n",
       "    <tr>\n",
       "      <th>RAMNT_22</th>\n",
       "      <td>78.123297</td>\n",
       "    </tr>\n",
       "    <tr>\n",
       "      <th>RDATE_22</th>\n",
       "      <td>78.123297</td>\n",
       "    </tr>\n",
       "    <tr>\n",
       "      <th>RAMNT_8</th>\n",
       "      <td>77.495493</td>\n",
       "    </tr>\n",
       "    <tr>\n",
       "      <th>RDATE_8</th>\n",
       "      <td>77.495493</td>\n",
       "    </tr>\n",
       "    <tr>\n",
       "      <th>RDATE_14</th>\n",
       "      <td>75.561774</td>\n",
       "    </tr>\n",
       "    <tr>\n",
       "      <th>RAMNT_14</th>\n",
       "      <td>75.561774</td>\n",
       "    </tr>\n",
       "    <tr>\n",
       "      <th>RAMNT_12</th>\n",
       "      <td>73.064185</td>\n",
       "    </tr>\n",
       "    <tr>\n",
       "      <th>RDATE_12</th>\n",
       "      <td>73.064185</td>\n",
       "    </tr>\n",
       "    <tr>\n",
       "      <th>RAMNT_16</th>\n",
       "      <td>71.707961</td>\n",
       "    </tr>\n",
       "    <tr>\n",
       "      <th>RDATE_16</th>\n",
       "      <td>71.707961</td>\n",
       "    </tr>\n",
       "    <tr>\n",
       "      <th>ADATE_15</th>\n",
       "      <td>68.625540</td>\n",
       "    </tr>\n",
       "    <tr>\n",
       "      <th>ADATE_23</th>\n",
       "      <td>58.975810</td>\n",
       "    </tr>\n",
       "    <tr>\n",
       "      <th>MBCOLECT</th>\n",
       "      <td>55.458433</td>\n",
       "    </tr>\n",
       "    <tr>\n",
       "      <th>MAGFAML</th>\n",
       "      <td>55.395548</td>\n",
       "    </tr>\n",
       "    <tr>\n",
       "      <th>MBCRAFT</th>\n",
       "      <td>55.395548</td>\n",
       "    </tr>\n",
       "  </tbody>\n",
       "</table>\n",
       "</div>"
      ],
      "text/plain": [
       "          percentage\n",
       "RDATE_5    99.990567\n",
       "RAMNT_5    99.990567\n",
       "RDATE_3    99.746363\n",
       "RAMNT_3    99.746363\n",
       "RDATE_4    99.705488\n",
       "RAMNT_4    99.705488\n",
       "RAMNT_6    99.186685\n",
       "RDATE_6    99.186685\n",
       "RAMNT_15   92.388798\n",
       "RDATE_15   92.388798\n",
       "RDATE_23   91.763091\n",
       "RAMNT_23   91.763091\n",
       "RDATE_20   91.732696\n",
       "RAMNT_20   91.732696\n",
       "RAMNT_7    90.677273\n",
       "RDATE_7    90.677273\n",
       "RAMNT_17   90.146942\n",
       "RDATE_17   90.146942\n",
       "RDATE_21   90.029556\n",
       "RAMNT_21   90.029556\n",
       "RAMNT_10   89.035970\n",
       "RDATE_10   89.035970\n",
       "RDATE_13   87.160944\n",
       "RAMNT_13   87.160944\n",
       "NUMCHLD    87.018404\n",
       "RDATE_11   84.551209\n",
       "RAMNT_11   84.551209\n",
       "RDATE_19   83.359535\n",
       "RAMNT_19   83.359535\n",
       "RAMNT_9    82.461326\n",
       "RDATE_9    82.461326\n",
       "RDATE_24   81.409047\n",
       "RAMNT_24   81.409047\n",
       "RAMNT_18   79.270951\n",
       "RDATE_18   79.270951\n",
       "RAMNT_22   78.123297\n",
       "RDATE_22   78.123297\n",
       "RAMNT_8    77.495493\n",
       "RDATE_8    77.495493\n",
       "RDATE_14   75.561774\n",
       "RAMNT_14   75.561774\n",
       "RAMNT_12   73.064185\n",
       "RDATE_12   73.064185\n",
       "RAMNT_16   71.707961\n",
       "RDATE_16   71.707961\n",
       "ADATE_15   68.625540\n",
       "ADATE_23   58.975810\n",
       "MBCOLECT   55.458433\n",
       "MAGFAML    55.395548\n",
       "MBCRAFT    55.395548"
      ]
     },
     "execution_count": 111,
     "metadata": {},
     "output_type": "execute_result"
    }
   ],
   "source": [
    "nulls = pd.DataFrame(df.isna().sum()*100/len(df), columns=['percentage']) # Checking top 50 columns by null ammount in %\n",
    "nulls.sort_values('percentage', ascending = False).head(50)"
   ]
  },
  {
   "cell_type": "code",
   "execution_count": 112,
   "id": "c1310965",
   "metadata": {},
   "outputs": [],
   "source": [
    "drop_list = [] # creating a list with columns ro remove\n",
    "\n",
    "drop_list.append('OSOURCE')\n",
    "drop_list.append('ZIP')"
   ]
  },
  {
   "cell_type": "code",
   "execution_count": 113,
   "id": "3c207823",
   "metadata": {},
   "outputs": [
    {
     "data": {
      "text/plain": [
       "['OSOURCE', 'ZIP']"
      ]
     },
     "execution_count": 113,
     "metadata": {},
     "output_type": "execute_result"
    }
   ],
   "source": [
    "drop_list #current drop list"
   ]
  },
  {
   "cell_type": "code",
   "execution_count": 114,
   "id": "195c0ef7",
   "metadata": {},
   "outputs": [
    {
     "data": {
      "text/plain": [
       "['NUMCHLD',\n",
       " 'RDATE_3',\n",
       " 'RDATE_4',\n",
       " 'RDATE_5',\n",
       " 'RDATE_6',\n",
       " 'RDATE_7',\n",
       " 'RDATE_10',\n",
       " 'RDATE_13',\n",
       " 'RDATE_15',\n",
       " 'RDATE_17',\n",
       " 'RDATE_20',\n",
       " 'RDATE_21',\n",
       " 'RDATE_23',\n",
       " 'RAMNT_3',\n",
       " 'RAMNT_4',\n",
       " 'RAMNT_5',\n",
       " 'RAMNT_6',\n",
       " 'RAMNT_7',\n",
       " 'RAMNT_10',\n",
       " 'RAMNT_13',\n",
       " 'RAMNT_15',\n",
       " 'RAMNT_17',\n",
       " 'RAMNT_20',\n",
       " 'RAMNT_21',\n",
       " 'RAMNT_23']"
      ]
     },
     "execution_count": 114,
     "metadata": {},
     "output_type": "execute_result"
    }
   ],
   "source": [
    "nulls_over_85 = list(nulls[nulls['percentage'] > 85].index) #creating a list with columns that have over 85% nulls\n",
    "nulls_over_85"
   ]
  },
  {
   "cell_type": "code",
   "execution_count": 115,
   "id": "5c122fe3",
   "metadata": {},
   "outputs": [],
   "source": [
    "drop_list.extend(nulls_over_85) # extending current drop list with columns above"
   ]
  },
  {
   "cell_type": "code",
   "execution_count": 116,
   "id": "591999ef",
   "metadata": {},
   "outputs": [],
   "source": [
    "df1 = df.drop(columns=drop_list) # dropping columns from drop list and creating a new version (df1)"
   ]
  },
  {
   "cell_type": "code",
   "execution_count": 117,
   "id": "e24e77e1",
   "metadata": {},
   "outputs": [
    {
     "data": {
      "text/plain": [
       "(95412, 454)"
      ]
     },
     "execution_count": 117,
     "metadata": {},
     "output_type": "execute_result"
    }
   ],
   "source": [
    "df1.shape"
   ]
  },
  {
   "cell_type": "markdown",
   "id": "bfb82c3d",
   "metadata": {},
   "source": [
    "Below cleaning the \"GENDER\" column"
   ]
  },
  {
   "cell_type": "code",
   "execution_count": 118,
   "id": "09000aa4",
   "metadata": {},
   "outputs": [
    {
     "name": "stdout",
     "output_type": "stream",
     "text": [
      "F    51277\n",
      "M    39094\n",
      "      2957\n",
      "U     1715\n",
      "J      365\n",
      "C        2\n",
      "A        2\n",
      "Name: GENDER, dtype: int64\n"
     ]
    }
   ],
   "source": [
    "print(df1['GENDER'].value_counts())\n",
    "df1['GENDER'] = df1['GENDER'].fillna('F')"
   ]
  },
  {
   "cell_type": "code",
   "execution_count": 119,
   "id": "77a980f0",
   "metadata": {},
   "outputs": [],
   "source": [
    "df1['GENDER'] = df1['GENDER'].apply(lambda x: \"other\" if x != \"F\" and x != \"M\" else x) \n",
    "# bucketing all genders to 'other' if not in F or M"
   ]
  },
  {
   "cell_type": "code",
   "execution_count": 120,
   "id": "6cd3adc6",
   "metadata": {},
   "outputs": [
    {
     "data": {
      "text/plain": [
       "F        51277\n",
       "M        39094\n",
       "other     5041\n",
       "Name: GENDER, dtype: int64"
      ]
     },
     "execution_count": 120,
     "metadata": {},
     "output_type": "execute_result"
    }
   ],
   "source": [
    "df1['GENDER'].value_counts()"
   ]
  },
  {
   "cell_type": "markdown",
   "id": "291e312f",
   "metadata": {},
   "source": [
    "## lab2"
   ]
  },
  {
   "cell_type": "code",
   "execution_count": 121,
   "id": "9aba0b2c",
   "metadata": {},
   "outputs": [],
   "source": [
    "df1_numerical = df1.select_dtypes('number')"
   ]
  },
  {
   "cell_type": "code",
   "execution_count": 122,
   "id": "e26b0fb6",
   "metadata": {},
   "outputs": [
    {
     "data": {
      "text/html": [
       "<div>\n",
       "<style scoped>\n",
       "    .dataframe tbody tr th:only-of-type {\n",
       "        vertical-align: middle;\n",
       "    }\n",
       "\n",
       "    .dataframe tbody tr th {\n",
       "        vertical-align: top;\n",
       "    }\n",
       "\n",
       "    .dataframe thead th {\n",
       "        text-align: right;\n",
       "    }\n",
       "</style>\n",
       "<table border=\"1\" class=\"dataframe\">\n",
       "  <thead>\n",
       "    <tr style=\"text-align: right;\">\n",
       "      <th></th>\n",
       "      <th>ODATEDW</th>\n",
       "      <th>TCODE</th>\n",
       "      <th>DOB</th>\n",
       "      <th>AGE</th>\n",
       "      <th>INCOME</th>\n",
       "      <th>WEALTH1</th>\n",
       "      <th>HIT</th>\n",
       "      <th>MBCRAFT</th>\n",
       "      <th>MBGARDEN</th>\n",
       "      <th>MBBOOKS</th>\n",
       "      <th>...</th>\n",
       "      <th>FISTDATE</th>\n",
       "      <th>NEXTDATE</th>\n",
       "      <th>TIMELAG</th>\n",
       "      <th>AVGGIFT</th>\n",
       "      <th>CONTROLN</th>\n",
       "      <th>TARGET_B</th>\n",
       "      <th>TARGET_D</th>\n",
       "      <th>HPHONE_D</th>\n",
       "      <th>RFA_2F</th>\n",
       "      <th>CLUSTER2</th>\n",
       "    </tr>\n",
       "  </thead>\n",
       "  <tbody>\n",
       "    <tr>\n",
       "      <th>0</th>\n",
       "      <td>8901</td>\n",
       "      <td>0</td>\n",
       "      <td>3712</td>\n",
       "      <td>60.0</td>\n",
       "      <td>NaN</td>\n",
       "      <td>NaN</td>\n",
       "      <td>0</td>\n",
       "      <td>NaN</td>\n",
       "      <td>NaN</td>\n",
       "      <td>NaN</td>\n",
       "      <td>...</td>\n",
       "      <td>8911</td>\n",
       "      <td>9003.0</td>\n",
       "      <td>4.0</td>\n",
       "      <td>7.741935</td>\n",
       "      <td>95515</td>\n",
       "      <td>0</td>\n",
       "      <td>0.0</td>\n",
       "      <td>0</td>\n",
       "      <td>4</td>\n",
       "      <td>39.0</td>\n",
       "    </tr>\n",
       "    <tr>\n",
       "      <th>1</th>\n",
       "      <td>9401</td>\n",
       "      <td>1</td>\n",
       "      <td>5202</td>\n",
       "      <td>46.0</td>\n",
       "      <td>6.0</td>\n",
       "      <td>9.0</td>\n",
       "      <td>16</td>\n",
       "      <td>0.0</td>\n",
       "      <td>0.0</td>\n",
       "      <td>3.0</td>\n",
       "      <td>...</td>\n",
       "      <td>9310</td>\n",
       "      <td>9504.0</td>\n",
       "      <td>18.0</td>\n",
       "      <td>15.666667</td>\n",
       "      <td>148535</td>\n",
       "      <td>0</td>\n",
       "      <td>0.0</td>\n",
       "      <td>0</td>\n",
       "      <td>2</td>\n",
       "      <td>1.0</td>\n",
       "    </tr>\n",
       "    <tr>\n",
       "      <th>2</th>\n",
       "      <td>9001</td>\n",
       "      <td>1</td>\n",
       "      <td>0</td>\n",
       "      <td>NaN</td>\n",
       "      <td>3.0</td>\n",
       "      <td>1.0</td>\n",
       "      <td>2</td>\n",
       "      <td>0.0</td>\n",
       "      <td>0.0</td>\n",
       "      <td>1.0</td>\n",
       "      <td>...</td>\n",
       "      <td>9001</td>\n",
       "      <td>9101.0</td>\n",
       "      <td>12.0</td>\n",
       "      <td>7.481481</td>\n",
       "      <td>15078</td>\n",
       "      <td>0</td>\n",
       "      <td>0.0</td>\n",
       "      <td>1</td>\n",
       "      <td>4</td>\n",
       "      <td>60.0</td>\n",
       "    </tr>\n",
       "    <tr>\n",
       "      <th>3</th>\n",
       "      <td>8701</td>\n",
       "      <td>0</td>\n",
       "      <td>2801</td>\n",
       "      <td>70.0</td>\n",
       "      <td>1.0</td>\n",
       "      <td>4.0</td>\n",
       "      <td>2</td>\n",
       "      <td>0.0</td>\n",
       "      <td>0.0</td>\n",
       "      <td>0.0</td>\n",
       "      <td>...</td>\n",
       "      <td>8702</td>\n",
       "      <td>8711.0</td>\n",
       "      <td>9.0</td>\n",
       "      <td>6.812500</td>\n",
       "      <td>172556</td>\n",
       "      <td>0</td>\n",
       "      <td>0.0</td>\n",
       "      <td>1</td>\n",
       "      <td>4</td>\n",
       "      <td>41.0</td>\n",
       "    </tr>\n",
       "    <tr>\n",
       "      <th>4</th>\n",
       "      <td>8601</td>\n",
       "      <td>0</td>\n",
       "      <td>2001</td>\n",
       "      <td>78.0</td>\n",
       "      <td>3.0</td>\n",
       "      <td>2.0</td>\n",
       "      <td>60</td>\n",
       "      <td>1.0</td>\n",
       "      <td>0.0</td>\n",
       "      <td>9.0</td>\n",
       "      <td>...</td>\n",
       "      <td>7903</td>\n",
       "      <td>8005.0</td>\n",
       "      <td>14.0</td>\n",
       "      <td>6.864865</td>\n",
       "      <td>7112</td>\n",
       "      <td>0</td>\n",
       "      <td>0.0</td>\n",
       "      <td>1</td>\n",
       "      <td>2</td>\n",
       "      <td>26.0</td>\n",
       "    </tr>\n",
       "  </tbody>\n",
       "</table>\n",
       "<p>5 rows × 382 columns</p>\n",
       "</div>"
      ],
      "text/plain": [
       "   ODATEDW  TCODE   DOB   AGE  INCOME  WEALTH1  HIT  MBCRAFT  MBGARDEN  \\\n",
       "0     8901      0  3712  60.0     NaN      NaN    0      NaN       NaN   \n",
       "1     9401      1  5202  46.0     6.0      9.0   16      0.0       0.0   \n",
       "2     9001      1     0   NaN     3.0      1.0    2      0.0       0.0   \n",
       "3     8701      0  2801  70.0     1.0      4.0    2      0.0       0.0   \n",
       "4     8601      0  2001  78.0     3.0      2.0   60      1.0       0.0   \n",
       "\n",
       "   MBBOOKS  ...  FISTDATE  NEXTDATE  TIMELAG    AVGGIFT  CONTROLN  TARGET_B  \\\n",
       "0      NaN  ...      8911    9003.0      4.0   7.741935     95515         0   \n",
       "1      3.0  ...      9310    9504.0     18.0  15.666667    148535         0   \n",
       "2      1.0  ...      9001    9101.0     12.0   7.481481     15078         0   \n",
       "3      0.0  ...      8702    8711.0      9.0   6.812500    172556         0   \n",
       "4      9.0  ...      7903    8005.0     14.0   6.864865      7112         0   \n",
       "\n",
       "   TARGET_D  HPHONE_D  RFA_2F  CLUSTER2  \n",
       "0       0.0         0       4      39.0  \n",
       "1       0.0         0       2       1.0  \n",
       "2       0.0         1       4      60.0  \n",
       "3       0.0         1       4      41.0  \n",
       "4       0.0         1       2      26.0  \n",
       "\n",
       "[5 rows x 382 columns]"
      ]
     },
     "execution_count": 122,
     "metadata": {},
     "output_type": "execute_result"
    }
   ],
   "source": [
    "df1_numerical.head()"
   ]
  },
  {
   "cell_type": "code",
   "execution_count": 123,
   "id": "aedee6c7",
   "metadata": {},
   "outputs": [
    {
     "data": {
      "text/plain": [
       "RDATE_11    80672\n",
       "RAMNT_11    80672\n",
       "RAMNT_19    79535\n",
       "RDATE_19    79535\n",
       "RAMNT_9     78678\n",
       "            ...  \n",
       "RHP4            0\n",
       "RHP3            0\n",
       "RHP2            0\n",
       "RHP1            0\n",
       "PEC1            0\n",
       "Length: 382, dtype: int64"
      ]
     },
     "execution_count": 123,
     "metadata": {},
     "output_type": "execute_result"
    }
   ],
   "source": [
    "df1_numerical.isna().sum().sort_values(ascending = False)"
   ]
  },
  {
   "cell_type": "code",
   "execution_count": 124,
   "id": "8b2815f7",
   "metadata": {},
   "outputs": [
    {
     "data": {
      "text/html": [
       "<div>\n",
       "<style scoped>\n",
       "    .dataframe tbody tr th:only-of-type {\n",
       "        vertical-align: middle;\n",
       "    }\n",
       "\n",
       "    .dataframe tbody tr th {\n",
       "        vertical-align: top;\n",
       "    }\n",
       "\n",
       "    .dataframe thead th {\n",
       "        text-align: right;\n",
       "    }\n",
       "</style>\n",
       "<table border=\"1\" class=\"dataframe\">\n",
       "  <thead>\n",
       "    <tr style=\"text-align: right;\">\n",
       "      <th></th>\n",
       "      <th>percentage</th>\n",
       "    </tr>\n",
       "  </thead>\n",
       "  <tbody>\n",
       "    <tr>\n",
       "      <th>RAMNT_11</th>\n",
       "      <td>84.551209</td>\n",
       "    </tr>\n",
       "    <tr>\n",
       "      <th>RDATE_11</th>\n",
       "      <td>84.551209</td>\n",
       "    </tr>\n",
       "    <tr>\n",
       "      <th>RAMNT_19</th>\n",
       "      <td>83.359535</td>\n",
       "    </tr>\n",
       "    <tr>\n",
       "      <th>RDATE_19</th>\n",
       "      <td>83.359535</td>\n",
       "    </tr>\n",
       "    <tr>\n",
       "      <th>RDATE_9</th>\n",
       "      <td>82.461326</td>\n",
       "    </tr>\n",
       "    <tr>\n",
       "      <th>RAMNT_9</th>\n",
       "      <td>82.461326</td>\n",
       "    </tr>\n",
       "    <tr>\n",
       "      <th>RAMNT_24</th>\n",
       "      <td>81.409047</td>\n",
       "    </tr>\n",
       "    <tr>\n",
       "      <th>RDATE_24</th>\n",
       "      <td>81.409047</td>\n",
       "    </tr>\n",
       "    <tr>\n",
       "      <th>RAMNT_18</th>\n",
       "      <td>79.270951</td>\n",
       "    </tr>\n",
       "    <tr>\n",
       "      <th>RDATE_18</th>\n",
       "      <td>79.270951</td>\n",
       "    </tr>\n",
       "    <tr>\n",
       "      <th>RDATE_22</th>\n",
       "      <td>78.123297</td>\n",
       "    </tr>\n",
       "    <tr>\n",
       "      <th>RAMNT_22</th>\n",
       "      <td>78.123297</td>\n",
       "    </tr>\n",
       "    <tr>\n",
       "      <th>RAMNT_8</th>\n",
       "      <td>77.495493</td>\n",
       "    </tr>\n",
       "    <tr>\n",
       "      <th>RDATE_8</th>\n",
       "      <td>77.495493</td>\n",
       "    </tr>\n",
       "    <tr>\n",
       "      <th>RDATE_14</th>\n",
       "      <td>75.561774</td>\n",
       "    </tr>\n",
       "    <tr>\n",
       "      <th>RAMNT_14</th>\n",
       "      <td>75.561774</td>\n",
       "    </tr>\n",
       "    <tr>\n",
       "      <th>RAMNT_12</th>\n",
       "      <td>73.064185</td>\n",
       "    </tr>\n",
       "    <tr>\n",
       "      <th>RDATE_12</th>\n",
       "      <td>73.064185</td>\n",
       "    </tr>\n",
       "    <tr>\n",
       "      <th>RDATE_16</th>\n",
       "      <td>71.707961</td>\n",
       "    </tr>\n",
       "    <tr>\n",
       "      <th>RAMNT_16</th>\n",
       "      <td>71.707961</td>\n",
       "    </tr>\n",
       "    <tr>\n",
       "      <th>ADATE_15</th>\n",
       "      <td>68.625540</td>\n",
       "    </tr>\n",
       "    <tr>\n",
       "      <th>ADATE_23</th>\n",
       "      <td>58.975810</td>\n",
       "    </tr>\n",
       "    <tr>\n",
       "      <th>MBCOLECT</th>\n",
       "      <td>55.458433</td>\n",
       "    </tr>\n",
       "    <tr>\n",
       "      <th>PUBHLTH</th>\n",
       "      <td>55.395548</td>\n",
       "    </tr>\n",
       "    <tr>\n",
       "      <th>MAGFEM</th>\n",
       "      <td>55.395548</td>\n",
       "    </tr>\n",
       "  </tbody>\n",
       "</table>\n",
       "</div>"
      ],
      "text/plain": [
       "          percentage\n",
       "RAMNT_11   84.551209\n",
       "RDATE_11   84.551209\n",
       "RAMNT_19   83.359535\n",
       "RDATE_19   83.359535\n",
       "RDATE_9    82.461326\n",
       "RAMNT_9    82.461326\n",
       "RAMNT_24   81.409047\n",
       "RDATE_24   81.409047\n",
       "RAMNT_18   79.270951\n",
       "RDATE_18   79.270951\n",
       "RDATE_22   78.123297\n",
       "RAMNT_22   78.123297\n",
       "RAMNT_8    77.495493\n",
       "RDATE_8    77.495493\n",
       "RDATE_14   75.561774\n",
       "RAMNT_14   75.561774\n",
       "RAMNT_12   73.064185\n",
       "RDATE_12   73.064185\n",
       "RDATE_16   71.707961\n",
       "RAMNT_16   71.707961\n",
       "ADATE_15   68.625540\n",
       "ADATE_23   58.975810\n",
       "MBCOLECT   55.458433\n",
       "PUBHLTH    55.395548\n",
       "MAGFEM     55.395548"
      ]
     },
     "execution_count": 124,
     "metadata": {},
     "output_type": "execute_result"
    }
   ],
   "source": [
    "pd.DataFrame(df1.isna().sum()*100/len(df), columns=['percentage']).sort_values('percentage', ascending = False).head(25)"
   ]
  },
  {
   "cell_type": "code",
   "execution_count": 149,
   "id": "b4e2cfe4",
   "metadata": {},
   "outputs": [],
   "source": [
    "lab2_cols = ['GEOCODE2', 'WEALTH1', 'ADI', 'DMA', 'MSA']\n",
    "lab2_cols_num = ['WEALTH1', 'ADI', 'DMA', 'MSA'] "
   ]
  },
  {
   "cell_type": "code",
   "execution_count": 126,
   "id": "4b297b46",
   "metadata": {},
   "outputs": [
    {
     "data": {
      "text/plain": [
       "GEOCODE2      132\n",
       "WEALTH1     44732\n",
       "ADI           132\n",
       "DMA           132\n",
       "MSA           132\n",
       "dtype: int64"
      ]
     },
     "execution_count": 126,
     "metadata": {},
     "output_type": "execute_result"
    }
   ],
   "source": [
    "df1[lab2_cols].isna().sum() # checking NaN's"
   ]
  },
  {
   "cell_type": "code",
   "execution_count": 127,
   "id": "66d56023",
   "metadata": {},
   "outputs": [
    {
     "data": {
      "text/html": [
       "<div>\n",
       "<style scoped>\n",
       "    .dataframe tbody tr th:only-of-type {\n",
       "        vertical-align: middle;\n",
       "    }\n",
       "\n",
       "    .dataframe tbody tr th {\n",
       "        vertical-align: top;\n",
       "    }\n",
       "\n",
       "    .dataframe thead th {\n",
       "        text-align: right;\n",
       "    }\n",
       "</style>\n",
       "<table border=\"1\" class=\"dataframe\">\n",
       "  <thead>\n",
       "    <tr style=\"text-align: right;\">\n",
       "      <th></th>\n",
       "      <th>WEALTH1</th>\n",
       "      <th>ADI</th>\n",
       "      <th>DMA</th>\n",
       "      <th>MSA</th>\n",
       "    </tr>\n",
       "  </thead>\n",
       "  <tbody>\n",
       "    <tr>\n",
       "      <th>count</th>\n",
       "      <td>50680.000000</td>\n",
       "      <td>95280.000000</td>\n",
       "      <td>95280.000000</td>\n",
       "      <td>95280.000000</td>\n",
       "    </tr>\n",
       "    <tr>\n",
       "      <th>mean</th>\n",
       "      <td>5.345699</td>\n",
       "      <td>187.356402</td>\n",
       "      <td>664.004072</td>\n",
       "      <td>3527.744102</td>\n",
       "    </tr>\n",
       "    <tr>\n",
       "      <th>std</th>\n",
       "      <td>2.742490</td>\n",
       "      <td>137.019184</td>\n",
       "      <td>116.363600</td>\n",
       "      <td>2863.904737</td>\n",
       "    </tr>\n",
       "    <tr>\n",
       "      <th>min</th>\n",
       "      <td>0.000000</td>\n",
       "      <td>0.000000</td>\n",
       "      <td>0.000000</td>\n",
       "      <td>0.000000</td>\n",
       "    </tr>\n",
       "    <tr>\n",
       "      <th>25%</th>\n",
       "      <td>3.000000</td>\n",
       "      <td>65.000000</td>\n",
       "      <td>561.000000</td>\n",
       "      <td>520.000000</td>\n",
       "    </tr>\n",
       "    <tr>\n",
       "      <th>50%</th>\n",
       "      <td>6.000000</td>\n",
       "      <td>175.000000</td>\n",
       "      <td>635.000000</td>\n",
       "      <td>3350.000000</td>\n",
       "    </tr>\n",
       "    <tr>\n",
       "      <th>75%</th>\n",
       "      <td>8.000000</td>\n",
       "      <td>279.000000</td>\n",
       "      <td>801.000000</td>\n",
       "      <td>5960.000000</td>\n",
       "    </tr>\n",
       "    <tr>\n",
       "      <th>max</th>\n",
       "      <td>9.000000</td>\n",
       "      <td>651.000000</td>\n",
       "      <td>881.000000</td>\n",
       "      <td>9360.000000</td>\n",
       "    </tr>\n",
       "  </tbody>\n",
       "</table>\n",
       "</div>"
      ],
      "text/plain": [
       "            WEALTH1           ADI           DMA           MSA\n",
       "count  50680.000000  95280.000000  95280.000000  95280.000000\n",
       "mean       5.345699    187.356402    664.004072   3527.744102\n",
       "std        2.742490    137.019184    116.363600   2863.904737\n",
       "min        0.000000      0.000000      0.000000      0.000000\n",
       "25%        3.000000     65.000000    561.000000    520.000000\n",
       "50%        6.000000    175.000000    635.000000   3350.000000\n",
       "75%        8.000000    279.000000    801.000000   5960.000000\n",
       "max        9.000000    651.000000    881.000000   9360.000000"
      ]
     },
     "execution_count": 127,
     "metadata": {},
     "output_type": "execute_result"
    }
   ],
   "source": [
    "df1[lab2_cols].describe()"
   ]
  },
  {
   "cell_type": "code",
   "execution_count": 136,
   "id": "81b07038",
   "metadata": {},
   "outputs": [],
   "source": [
    "df2 = df1.copy() # copying the data frame"
   ]
  },
  {
   "cell_type": "code",
   "execution_count": 150,
   "id": "91ffc13c",
   "metadata": {},
   "outputs": [],
   "source": [
    "for col in lab2_cols_num: #filling the required columns with mean \n",
    "    mean = df2[col].mean()\n",
    "    df2[col].fillna(mean, inplace=True)"
   ]
  },
  {
   "cell_type": "code",
   "execution_count": 137,
   "id": "ecaa26a5",
   "metadata": {},
   "outputs": [
    {
     "data": {
      "text/plain": [
       "A    34803\n",
       "B    28505\n",
       "D    16580\n",
       "C    15524\n",
       "Name: GEOCODE2, dtype: int64"
      ]
     },
     "execution_count": 137,
     "metadata": {},
     "output_type": "execute_result"
    }
   ],
   "source": [
    "df2['GEOCODE2'].value_counts() # checking the values in categorical column"
   ]
  },
  {
   "cell_type": "code",
   "execution_count": 138,
   "id": "a27ce242",
   "metadata": {},
   "outputs": [],
   "source": [
    "df2['GEOCODE2'] = df2['GEOCODE2'].apply(lambda x: 'A' if pd.isna(x) else x) #filling nulls with mode"
   ]
  },
  {
   "cell_type": "code",
   "execution_count": 139,
   "id": "895cff82",
   "metadata": {},
   "outputs": [
    {
     "data": {
      "text/plain": [
       "A    34803\n",
       "B    28505\n",
       "D    16580\n",
       "C    15524\n",
       "Name: GEOCODE2, dtype: int64"
      ]
     },
     "execution_count": 139,
     "metadata": {},
     "output_type": "execute_result"
    }
   ],
   "source": [
    "df2['GEOCODE2'].value_counts() # category with empty value is still present('')"
   ]
  },
  {
   "cell_type": "code",
   "execution_count": 153,
   "id": "2d6957d7",
   "metadata": {},
   "outputs": [],
   "source": [
    "df2['GEOCODE2'] = df2['GEOCODE2'].apply(lambda x: 'A' if x not in ['A','B','C','D'] else x) \n",
    "#filling empty category with mode too"
   ]
  },
  {
   "cell_type": "code",
   "execution_count": 143,
   "id": "d6c6eb13",
   "metadata": {},
   "outputs": [
    {
     "data": {
      "text/plain": [
       "A    34803\n",
       "B    28505\n",
       "D    16580\n",
       "C    15524\n",
       "Name: GEOCODE2, dtype: int64"
      ]
     },
     "execution_count": 143,
     "metadata": {},
     "output_type": "execute_result"
    }
   ],
   "source": [
    "df2['GEOCODE2'].value_counts() "
   ]
  },
  {
   "cell_type": "code",
   "execution_count": 152,
   "id": "53f3804d",
   "metadata": {},
   "outputs": [
    {
     "data": {
      "text/plain": [
       "GEOCODE2    0\n",
       "WEALTH1     0\n",
       "ADI         0\n",
       "DMA         0\n",
       "MSA         0\n",
       "dtype: int64"
      ]
     },
     "execution_count": 152,
     "metadata": {},
     "output_type": "execute_result"
    }
   ],
   "source": [
    "df2[lab2_cols].isna().sum() #all the null values filled"
   ]
  },
  {
   "cell_type": "code",
   "execution_count": null,
   "id": "ea3ce415",
   "metadata": {},
   "outputs": [],
   "source": []
  }
 ],
 "metadata": {
  "kernelspec": {
   "display_name": "Python 3 (ipykernel)",
   "language": "python",
   "name": "python3"
  },
  "language_info": {
   "codemirror_mode": {
    "name": "ipython",
    "version": 3
   },
   "file_extension": ".py",
   "mimetype": "text/x-python",
   "name": "python",
   "nbconvert_exporter": "python",
   "pygments_lexer": "ipython3",
   "version": "3.10.9"
  }
 },
 "nbformat": 4,
 "nbformat_minor": 5
}
